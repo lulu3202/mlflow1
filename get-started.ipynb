{
 "cells": [
  {
   "cell_type": "markdown",
   "metadata": {},
   "source": [
    "## MLFLow Tracking Server"
   ]
  },
  {
   "cell_type": "code",
   "execution_count": 1,
   "metadata": {},
   "outputs": [],
   "source": [
    "import mlflow"
   ]
  },
  {
   "cell_type": "code",
   "execution_count": 2,
   "metadata": {},
   "outputs": [],
   "source": [
    "#set local host to track all your experiments here in this URL\n",
    "mlflow.set_tracking_uri(\"http://127.0.0.1:5000\")"
   ]
  },
  {
   "cell_type": "code",
   "execution_count": 3,
   "metadata": {},
   "outputs": [
    {
     "name": "stderr",
     "output_type": "stream",
     "text": [
      "2024/10/23 23:52:06 INFO mlflow.tracking.fluent: Experiment with name 'Check localhost connection' does not exist. Creating a new experiment.\n",
      "2024/10/23 23:52:07 INFO mlflow.tracking._tracking_service.client: 🏃 View run omniscient-goose-434 at: http://127.0.0.1:5000/#/experiments/329324817003636081/runs/c3f2726cc3ce4165a1015afebcc92b84.\n",
      "2024/10/23 23:52:07 INFO mlflow.tracking._tracking_service.client: 🧪 View experiment at: http://127.0.0.1:5000/#/experiments/329324817003636081.\n"
     ]
    }
   ],
   "source": [
    "#set experiment and check if you can track parameters\n",
    "mlflow.set_experiment(\"Check localhost connection\")\n",
    "\n",
    "with mlflow.start_run():\n",
    "    mlflow.log_metric(\"test\",1)\n",
    "    mlflow.log_metric(\"Devi\",2)"
   ]
  },
  {
   "cell_type": "code",
   "execution_count": 4,
   "metadata": {},
   "outputs": [
    {
     "name": "stderr",
     "output_type": "stream",
     "text": [
      "2024/10/23 23:54:03 INFO mlflow.tracking._tracking_service.client: 🏃 View run funny-tern-77 at: http://127.0.0.1:5000/#/experiments/329324817003636081/runs/935e0a794d1749fd9a499ac8bdc35ff8.\n",
      "2024/10/23 23:54:03 INFO mlflow.tracking._tracking_service.client: 🧪 View experiment at: http://127.0.0.1:5000/#/experiments/329324817003636081.\n"
     ]
    }
   ],
   "source": [
    "with mlflow.start_run():\n",
    "    mlflow.log_metric(\"test1\",1)\n",
    "    mlflow.log_metric(\"Priya1\",2)"
   ]
  },
  {
   "cell_type": "code",
   "execution_count": 5,
   "metadata": {},
   "outputs": [
    {
     "name": "stderr",
     "output_type": "stream",
     "text": [
      "2024/10/23 23:55:56 INFO mlflow.tracking._tracking_service.client: 🏃 View run rebellious-jay-418 at: http://127.0.0.1:5000/#/experiments/329324817003636081/runs/021a5cf6c78e4cbd957955b4b7250927.\n",
      "2024/10/23 23:55:56 INFO mlflow.tracking._tracking_service.client: 🧪 View experiment at: http://127.0.0.1:5000/#/experiments/329324817003636081.\n"
     ]
    }
   ],
   "source": [
    "with mlflow.start_run():\n",
    "    mlflow.log_metric(\"test2\",1)\n",
    "    mlflow.log_metric(\"Devi2\",2)"
   ]
  },
  {
   "cell_type": "code",
   "execution_count": null,
   "metadata": {},
   "outputs": [],
   "source": []
  }
 ],
 "metadata": {
  "kernelspec": {
   "display_name": "Python 3",
   "language": "python",
   "name": "python3"
  },
  "language_info": {
   "codemirror_mode": {
    "name": "ipython",
    "version": 3
   },
   "file_extension": ".py",
   "mimetype": "text/x-python",
   "name": "python",
   "nbconvert_exporter": "python",
   "pygments_lexer": "ipython3",
   "version": "3.10.0"
  }
 },
 "nbformat": 4,
 "nbformat_minor": 2
}
